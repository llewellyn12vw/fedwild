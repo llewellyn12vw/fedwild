{
 "cells": [
  {
   "cell_type": "code",
   "execution_count": 4,
   "id": "6f81b032",
   "metadata": {},
   "outputs": [],
   "source": [
    "import pandas as pd\n",
    "import os\n",
    "\n",
    "df = pd.read_csv('/home/wellvw12/local_fed/FedReID/results_summary.csv')\n",
    "# new_df = {i: pd.DataFrame(columns=df.columns) for i in range(0,4)}\n",
    "new_df = {}\n",
    "\n",
    "for i in range(4):\n",
    "    new_df[i] = df.iloc[i*90:(i+1)*90]\n",
    "\n",
    "\n",
    "for i,d in enumerate(new_df.values()):\n",
    "    subdir = f\"/home/wellvw12/results2/{str(i+1)}\"\n",
    "    if not os.path.exists(subdir):\n",
    "        os.makedirs(subdir)\n",
    "    d.to_csv(f\"{subdir}/results.csv\")"
   ]
  },
  {
   "cell_type": "code",
   "execution_count": 6,
   "id": "c290bed7",
   "metadata": {},
   "outputs": [
    {
     "data": {
      "text/plain": [
       "312"
      ]
     },
     "execution_count": 6,
     "metadata": {},
     "output_type": "execute_result"
    }
   ],
   "source": [
    "import pandas as pd\n",
    "import os\n",
    "\n",
    "df = pd.read_csv('/home/wellvw12/local_fed/FedReID/results_summary.csv')\n",
    "len(df)\n"
   ]
  },
  {
   "cell_type": "code",
   "execution_count": 6,
   "id": "b076291d",
   "metadata": {},
   "outputs": [
    {
     "name": "stdout",
     "output_type": "stream",
     "text": [
      "Created large_train dataset with 296 samples at /home/wellvw12/full_leopard_2/clients/test/large_train.csv\n"
     ]
    }
   ],
   "source": [
    "import os\n",
    "import pandas as pd\n",
    "import numpy as np\n",
    "\n",
    "def create_large_train_dataset():\n",
    "    dir_path = \"/home/wellvw12/full_leopard_2/clients\"\n",
    "    reference_df = pd.read_csv('/home/wellvw12/full_leopard_2/clients/1/train.csv')\n",
    "    large_train = pd.DataFrame(columns=reference_df.columns)\n",
    "    \n",
    "    for folder in os.listdir(dir_path):\n",
    "        if folder == 'test' or not os.path.isdir(os.path.join(dir_path, folder)):\n",
    "            continue\n",
    "            \n",
    "        train_file = os.path.join(dir_path, folder, 'train.csv')\n",
    "        if not os.path.exists(train_file):\n",
    "            continue\n",
    "            \n",
    "        try:\n",
    "            df = pd.read_csv(train_file)\n",
    "            id_counts = df['identity'].value_counts()\n",
    "            \n",
    "            for identity, count in id_counts.items():\n",
    "                if count > 50:\n",
    "                    # Get all samples for this identity\n",
    "                    identity_samples = df[df['identity'] == identity]\n",
    "                    \n",
    "                    # Calculate 10% (minimum 1 sample)\n",
    "                    n_samples = max(1, int(0.1 * len(identity_samples)))\n",
    "                    \n",
    "                    # Randomly sample without replacement\n",
    "                    selected_samples = identity_samples.sample(n=n_samples, random_state=42)\n",
    "                    \n",
    "                    # Append to large_train\n",
    "                    large_train = pd.concat([large_train, selected_samples], ignore_index=True)\n",
    "                    \n",
    "        except Exception as e:\n",
    "            print(f\"Error processing {folder}: {str(e)}\")\n",
    "            continue\n",
    "    \n",
    "    # Save the final large_train dataset\n",
    "    output_path = os.path.join(dir_path,\"test\", \"large_train.csv\")\n",
    "    large_train.to_csv(output_path, index=False)\n",
    "    print(f\"Created large_train dataset with {len(large_train)} samples at {output_path}\")\n",
    "    \n",
    "    return large_train\n",
    "\n",
    "# Execute the function\n",
    "large_train_dataset = create_large_train_dataset()"
   ]
  },
  {
   "cell_type": "code",
   "execution_count": null,
   "id": "7a48a26a",
   "metadata": {},
   "outputs": [],
   "source": []
  }
 ],
 "metadata": {
  "kernelspec": {
   "display_name": "venv",
   "language": "python",
   "name": "python3"
  },
  "language_info": {
   "codemirror_mode": {
    "name": "ipython",
    "version": 3
   },
   "file_extension": ".py",
   "mimetype": "text/x-python",
   "name": "python",
   "nbconvert_exporter": "python",
   "pygments_lexer": "ipython3",
   "version": "3.10.15"
  }
 },
 "nbformat": 4,
 "nbformat_minor": 5
}
