{
 "cells": [
  {
   "cell_type": "code",
   "execution_count": 8,
   "id": "9207134f",
   "metadata": {},
   "outputs": [
    {
     "name": "stdout",
     "output_type": "stream",
     "text": [
      "943 5882\n"
     ]
    }
   ],
   "source": [
    "import pandas as pd\n",
    "from wildlife_datasets.datasets import Cows2021v2, LeopardID2022, HyenaID2022, SeaTurtleID2022\n",
    "\n",
    "\n",
    "df = LeopardID2022('/home/wellvw12/leopard')\n",
    "# df = HyenaID2022('/home/wellvw12/hyenaid2022')\n",
    "df = df.df\n",
    "cnt1 = 0\n",
    "cnt2 = 0\n",
    "d = df['identity'].value_counts()\n",
    "for i,l in d.items():\n",
    "    # print(i,l)\n",
    "    if l < 8:\n",
    "        cnt1+=l\n",
    "        continue\n",
    "    cnt2+=l\n",
    "print(cnt1,cnt2)"
   ]
  },
  {
   "cell_type": "code",
   "execution_count": 3,
   "id": "cf4f282c",
   "metadata": {},
   "outputs": [
    {
     "data": {
      "text/html": [
       "<div>\n",
       "<style scoped>\n",
       "    .dataframe tbody tr th:only-of-type {\n",
       "        vertical-align: middle;\n",
       "    }\n",
       "\n",
       "    .dataframe tbody tr th {\n",
       "        vertical-align: top;\n",
       "    }\n",
       "\n",
       "    .dataframe thead th {\n",
       "        text-align: right;\n",
       "    }\n",
       "</style>\n",
       "<table border=\"1\" class=\"dataframe\">\n",
       "  <thead>\n",
       "    <tr style=\"text-align: right;\">\n",
       "      <th></th>\n",
       "      <th>timestamp</th>\n",
       "      <th>dataset</th>\n",
       "      <th>rank1</th>\n",
       "      <th>rank5</th>\n",
       "      <th>mAP</th>\n",
       "    </tr>\n",
       "  </thead>\n",
       "  <tbody>\n",
       "    <tr>\n",
       "      <th>0</th>\n",
       "      <td>2025-07-11 09:34:15</td>\n",
       "      <td>client_5</td>\n",
       "      <td>0.2903</td>\n",
       "      <td>0.3595</td>\n",
       "      <td>NaN</td>\n",
       "    </tr>\n",
       "    <tr>\n",
       "      <th>1</th>\n",
       "      <td>2025-07-11 09:59:06</td>\n",
       "      <td>client_5</td>\n",
       "      <td>0.3548</td>\n",
       "      <td>0.4169</td>\n",
       "      <td>NaN</td>\n",
       "    </tr>\n",
       "  </tbody>\n",
       "</table>\n",
       "</div>"
      ],
      "text/plain": [
       "             timestamp   dataset   rank1   rank5  mAP\n",
       "0  2025-07-11 09:34:15  client_5  0.2903  0.3595  NaN\n",
       "1  2025-07-11 09:59:06  client_5  0.3548  0.4169  NaN"
      ]
     },
     "execution_count": 3,
     "metadata": {},
     "output_type": "execute_result"
    }
   ],
   "source": [
    "import pandas as pd\n",
    "df = pd.read_csv('/home/wellvw12/fedReID/model/lep4noniid/client_5/local_result.csv')\n",
    "df"
   ]
  },
  {
   "cell_type": "code",
   "execution_count": 4,
   "id": "e272f2ad",
   "metadata": {},
   "outputs": [
    {
     "data": {
      "text/plain": [
       "[1, 2, 3, 4, 5]"
      ]
     },
     "execution_count": 4,
     "metadata": {},
     "output_type": "execute_result"
    }
   ],
   "source": [
    "[w for w in range(1,6)]"
   ]
  },
  {
   "cell_type": "code",
   "execution_count": null,
   "id": "d0e2091f",
   "metadata": {},
   "outputs": [],
   "source": [
    "orientation\n",
    "left     2283\n",
    "right    2219\n",
    "back     1043\n",
    "front     902\n",
    "down      200"
   ]
  }
 ],
 "metadata": {
  "kernelspec": {
   "display_name": "base",
   "language": "python",
   "name": "python3"
  },
  "language_info": {
   "codemirror_mode": {
    "name": "ipython",
    "version": 3
   },
   "file_extension": ".py",
   "mimetype": "text/x-python",
   "name": "python",
   "nbconvert_exporter": "python",
   "pygments_lexer": "ipython3",
   "version": "3.10.15"
  }
 },
 "nbformat": 4,
 "nbformat_minor": 5
}
