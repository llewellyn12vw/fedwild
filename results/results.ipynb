{
 "cells": [
  {
   "cell_type": "markdown",
   "id": "ff0ba1ed",
   "metadata": {},
   "source": [
    "**Experiment setup**"
   ]
  },
  {
   "cell_type": "markdown",
   "id": "99372186",
   "metadata": {},
   "source": [
    "LEOPARD2022 ID DATASET\n",
    "\n",
    "Total identities: 430\n",
    "\n",
    "Final client distributions:\n",
    "|   Client |   Total Identities |   Total Samples |   Avg Samples/ID |\n",
    "|---------:|-------------------:|----------------:|-----------------:|\n",
    "|        1 |                 70 |             836 |             11.9 |\n",
    "|       KD |                 54 |             985 |             18.2 |\n",
    "|        3 |                 51 |            1306 |             25.6 |\n",
    "|        4 |                 73 |            1046 |             14.3 |\n",
    "|        5 |                 63 |             940 |             14.9 |\n",
    "|     Test |                 50 |             415 |              8.3 |\n",
    "|        7 |                 69 |            1278 |             18.5 |\n",
    "\n",
    "**Client 2 => Knowledge Distillation set of 985 samples**\n",
    "\n",
    "**Client 7 => Seperate testing set, 415 samples split in query and gallery set as follows:**\n",
    "\n",
    "                Query identities: 15\n",
    "                Gallery identities: 50\n",
    "                Shared identities: 15\n",
    "\n",
    "                Query samples: 33\n",
    "                Gallery samples: 382\n",
    "                Query identities: 15\n",
    "                Gallery identities: 50\n",
    "\n",
    "**5 CLIENTS**\n",
    "\n",
    "Client 1:\n",
    "\n",
    "                Query identities: 4\n",
    "                Gallery identities: 15\n",
    "                Shared identities: 4\n",
    "\n",
    "                Client 1 saved:\n",
    "                  Train samples: 738\n",
    "                  Query samples: 9\n",
    "                  Gallery samples: 89\n",
    "\n",
    "Client 2:\n",
    "\n",
    "                Query identities: 5\n",
    "                Gallery identities: 20\n",
    "                Shared identities: 5\n",
    "\n",
    "\n",
    "                Client 3 saved:\n",
    "                  Train samples: 1124\n",
    "                  Query samples: 13\n",
    "                  Gallery samples: 169\n",
    "\n",
    "Client 4:\n",
    "\n",
    "                  Query identities: 4\n",
    "                  Gallery identities: 18\n",
    "                  Shared identities: 4\n",
    "\n",
    "                  Client 4 saved:\n",
    "                    Train samples: 915\n",
    "                    Query samples: 8\n",
    "                    Gallery samples: 123\n",
    "\n",
    "Client 5:\n",
    "\n",
    "                    Query identities: 6\n",
    "                    Gallery identities: 16\n",
    "                    Shared identities: 6\n",
    "\n",
    "                    Client 5 saved:\n",
    "                      Train samples: 821\n",
    "                      Query samples: 13\n",
    "                      Gallery samples: 106\n",
    "\n",
    "\n",
    "Client 7:\n",
    "\n",
    "                      Query identities: 6\n",
    "                      Gallery identities: 17\n",
    "                      Shared identities: 6\n",
    "\n",
    "                      Client 7 saved:\n",
    "                        Train samples: 1110\n",
    "                        Query samples: 11\n",
    "                        Gallery samples: 157\n",
    "\n"
   ]
  },
  {
   "cell_type": "markdown",
   "id": "614b6c30",
   "metadata": {},
   "source": [
    "**FEDERATED LEARNING HYPER PARAMETERS**\n",
    "\n",
    "***gpu_ids='0', model_name='ex2_110', project_dir='.', data_dir='/home/wellvw12/full_leopard_3/clients', datasets='1,3,4,5,7,test', train_all=False, stride=2, lr=0.05, drop_rate=0.5, local_epoch=1, batch_size=32, num_of_clients=3, erasing_p=0, color_jitter=False, which_epoch='last', multi=False, multiple_scale='1', test_dir='all', cdw=False, kd=False, regularization=False***"
   ]
  },
  {
   "cell_type": "markdown",
   "id": "de22283f",
   "metadata": {},
   "source": [
    "**EXPERIMENT 1**\n",
    "\n",
    "FEDAVG with weighted aggregation:\n",
    "\n",
    "![](train1.png \"Optional Title\")"
   ]
  },
  {
   "cell_type": "markdown",
   "id": "96d6ae67",
   "metadata": {},
   "source": [
    "**EXPERIMENT 2**\n",
    "\n",
    "FEDAVG with weighted aggregation + Knowledge Distillation + Cosine Distance weighting:\n",
    "\n",
    "![](train2.png \"Optional Title\")"
   ]
  },
  {
   "cell_type": "markdown",
   "id": "8e620748",
   "metadata": {},
   "source": [
    "# **RESULTS**"
   ]
  },
  {
   "cell_type": "markdown",
   "id": "d5afc787",
   "metadata": {},
   "source": [
    "**Test_set**\n",
    "\n",
    "<table>\n",
    "  <tr>\n",
    "    <td><img src=\"dataset_test_1ap.png\" width=\"700\"></td>\n",
    "    <td><img src=\"dataset_test_5ap.png\" width=\"700\"></td>\n",
    "  </tr>\n",
    "  <tr>\n",
    "    <td><img src=\"dataset_test_map.png\" width=\"700\"></td>\n",
    "    <!-- <td><img src=\"image4.png\" width=\"200\"></td> -->\n",
    "  </tr>\n",
    "</table>"
   ]
  },
  {
   "cell_type": "markdown",
   "id": "850f7e30",
   "metadata": {},
   "source": [
    "**Client1**\n",
    "\n",
    "<table>\n",
    "  <tr>\n",
    "    <td><img src=\"dataset_1_1ap.png\" width=\"700\"></td>\n",
    "    <td><img src=\"dataset_1_5ap.png\" width=\"700\"></td>\n",
    "  </tr>\n",
    "  <tr>\n",
    "    <td><img src=\"dataset_1_map.png\" width=\"700\"></td>\n",
    "    <!-- <td><img src=\"image4.png\" width=\"200\"></td> -->\n",
    "  </tr>\n",
    "</table>"
   ]
  },
  {
   "cell_type": "markdown",
   "id": "c777fdcd",
   "metadata": {},
   "source": [
    "**Client3**\n",
    "\n",
    "<table>\n",
    "  <tr>\n",
    "    <td><img src=\"dataset_3_1ap.png\" width=\"700\"></td>\n",
    "    <td><img src=\"dataset_3_5ap.png\" width=\"700\"></td>\n",
    "  </tr>\n",
    "  <tr>\n",
    "    <td><img src=\"dataset_3_map.png\" width=\"700\"></td>\n",
    "    <!-- <td><img src=\"image4.png\" width=\"200\"></td> -->\n",
    "  </tr>\n",
    "</table>"
   ]
  },
  {
   "cell_type": "markdown",
   "id": "0280b159",
   "metadata": {},
   "source": [
    "**Client4**\n",
    "\n",
    "<table>\n",
    "  <tr>\n",
    "    <td><img src=\"dataset_4_1ap.png\" width=\"700\"></td>\n",
    "    <td><img src=\"dataset_4_5ap.png\" width=\"700\"></td>\n",
    "  </tr>\n",
    "  <tr>\n",
    "    <td><img src=\"dataset_4_map.png\" width=\"700\"></td>\n",
    "    <!-- <td><img src=\"image4.png\" width=\"200\"></td> -->\n",
    "  </tr>\n",
    "</table>"
   ]
  },
  {
   "cell_type": "markdown",
   "id": "b5e1a8b1",
   "metadata": {},
   "source": [
    "**Client5**\n",
    "\n",
    "<table>\n",
    "  <tr>\n",
    "    <td><img src=\"dataset_5_1ap.png\" width=\"700\"></td>\n",
    "    <td><img src=\"dataset_5_5ap.png\" width=\"700\"></td>\n",
    "  </tr>\n",
    "  <tr>\n",
    "    <td><img src=\"dataset_5_map.png\" width=\"700\"></td>\n",
    "    <!-- <td><img src=\"image4.png\" width=\"200\"></td> -->\n",
    "  </tr>\n",
    "</table>"
   ]
  },
  {
   "cell_type": "markdown",
   "id": "4f03b0fb",
   "metadata": {},
   "source": [
    "**Client7**\n",
    "\n",
    "<table>\n",
    "  <tr>\n",
    "    <td><img src=\"dataset_7_1ap.png\" width=\"700\"></td>\n",
    "    <td><img src=\"dataset_7_5ap.png\" width=\"700\"></td>\n",
    "  </tr>\n",
    "  <tr>\n",
    "    <td><img src=\"dataset_7_map.png\" width=\"700\"></td>\n",
    "    <!-- <td><img src=\"image4.png\" width=\"200\"></td> -->\n",
    "  </tr>\n",
    "</table>"
   ]
  },
  {
   "cell_type": "markdown",
   "id": "7c1c41bd",
   "metadata": {},
   "source": []
  }
 ],
 "metadata": {
  "kernelspec": {
   "display_name": "base",
   "language": "python",
   "name": "python3"
  },
  "language_info": {
   "codemirror_mode": {
    "name": "ipython",
    "version": 3
   },
   "file_extension": ".py",
   "mimetype": "text/x-python",
   "name": "python",
   "nbconvert_exporter": "python",
   "pygments_lexer": "ipython3",
   "version": "3.10.15"
  }
 },
 "nbformat": 4,
 "nbformat_minor": 5
}
